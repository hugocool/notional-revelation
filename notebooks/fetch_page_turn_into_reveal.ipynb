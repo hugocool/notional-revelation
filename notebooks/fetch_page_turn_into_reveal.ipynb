{
 "cells": [
  {
   "cell_type": "code",
   "execution_count": 1,
   "metadata": {},
   "outputs": [],
   "source": [
    "import notional\n",
    "from dotenv import find_dotenv,load_dotenv\n",
    "import os\n",
    "\n",
    "load_dotenv(find_dotenv())\n",
    "\n",
    "auth_token = os.getenv(\"notion_integration_token\")\n",
    "notion = notional.connect(auth=auth_token)\n",
    "\n",
    "\n",
    "\n"
   ]
  },
  {
   "cell_type": "code",
   "execution_count": 3,
   "metadata": {},
   "outputs": [
    {
     "data": {
      "text/plain": [
       "[('415ea9c6-2d53-496a-92cc-0c9b0a22c921', 'Test_Page')]"
      ]
     },
     "execution_count": 3,
     "metadata": {},
     "output_type": "execute_result"
    }
   ],
   "source": [
    "from src.helpers import notion_pages_tuple\n",
    "\n",
    "notion_pages_tuple(auth_token)\n",
    "\n",
    "# page_id = \n",
    "# notion.pages.retrieve()"
   ]
  },
  {
   "cell_type": "code",
   "execution_count": 8,
   "metadata": {},
   "outputs": [
    {
     "name": "stdout",
     "output_type": "stream",
     "text": [
      "Test_Page => https://www.notion.so/Test_Page-415ea9c62d53496a92cc0c9b0a22c921\n"
     ]
    }
   ],
   "source": [
    "page_id = '415ea9c6-2d53-496a-92cc-0c9b0a22c921'\n",
    "page = notion.pages.retrieve(page_id)\n",
    "print(f\"{page.Title} => {page.url}\")\n",
    "\n",
    "# print all children blocks on this page...\n",
    "# for block in notion.blocks.children.list(page):\n",
    "    # print(f\"{block.type} => {type(block)}\")"
   ]
  },
  {
   "cell_type": "code",
   "execution_count": 10,
   "metadata": {},
   "outputs": [
    {
     "data": {
      "text/plain": [
       "notional.records.Page"
      ]
     },
     "execution_count": 10,
     "metadata": {},
     "output_type": "execute_result"
    }
   ],
   "source": [
    "type(page)"
   ]
  },
  {
   "cell_type": "code",
   "execution_count": null,
   "metadata": {},
   "outputs": [],
   "source": [
    "from notional.records import Page\n",
    "\n",
    "def to_reveal(page:notional.records.Page)-> : File\n",
    "    return "
   ]
  },
  {
   "cell_type": "code",
   "execution_count": 9,
   "metadata": {},
   "outputs": [],
   "source": [
    "blocks =  [block for block in notion.blocks.children.list(page)]"
   ]
  },
  {
   "cell_type": "code",
   "execution_count": 11,
   "metadata": {},
   "outputs": [
    {
     "data": {
      "text/plain": [
       "[Heading1(type='heading_1', object='block', id=UUID('e8c10f24-ba5e-4166-9b9e-5528be38897d'), created_time=datetime.datetime(2021, 10, 22, 13, 52, tzinfo=datetime.timezone.utc), last_edited_time=datetime.datetime(2021, 10, 22, 15, 58, tzinfo=datetime.timezone.utc), has_children=False, heading_1=NestedData(text=[TextObject(type='text', plain_text='This is the heading we want to read', href=None, annotations=Annotations(bold=False, italic=False, strikethrough=False, underline=False, code=False, color=<FullColor.default: 'default'>), text=NestedData(content='This is the heading we want to read', link=None))])),\n",
       " Paragraph(type='paragraph', object='block', id=UUID('158d7738-af39-4bed-b327-07782e51f08b'), created_time=datetime.datetime(2021, 10, 23, 9, 28, tzinfo=datetime.timezone.utc), last_edited_time=datetime.datetime(2021, 10, 23, 9, 28, tzinfo=datetime.timezone.utc), has_children=False, paragraph=NestedData(text=[], children=None)),\n",
       " Paragraph(type='paragraph', object='block', id=UUID('b09bdec5-50f2-466a-834f-4e981a4317c2'), created_time=datetime.datetime(2021, 10, 22, 15, 58, tzinfo=datetime.timezone.utc), last_edited_time=datetime.datetime(2021, 10, 22, 15, 58, tzinfo=datetime.timezone.utc), has_children=False, paragraph=NestedData(text=[TextObject(type='text', plain_text='this is some text we want to read', href=None, annotations=Annotations(bold=False, italic=False, strikethrough=False, underline=False, code=False, color=<FullColor.default: 'default'>), text=NestedData(content='this is some text we want to read', link=None))], children=None)),\n",
       " Heading2(type='heading_2', object='block', id=UUID('836bcf42-ec8d-4541-a572-4af25382be14'), created_time=datetime.datetime(2021, 10, 22, 15, 58, tzinfo=datetime.timezone.utc), last_edited_time=datetime.datetime(2021, 10, 22, 15, 58, tzinfo=datetime.timezone.utc), has_children=False, heading_2=NestedData(text=[TextObject(type='text', plain_text='it is important the order is conserved', href=None, annotations=Annotations(bold=False, italic=False, strikethrough=False, underline=False, code=False, color=<FullColor.default: 'default'>), text=NestedData(content='it is important the order is conserved', link=None))])),\n",
       " UnsupportedBlock(type='unsupported', object='block', id=UUID('8bcadaec-1a47-4185-a7e5-bf7b030ab5ed'), created_time=datetime.datetime(2021, 10, 23, 9, 29, tzinfo=datetime.timezone.utc), last_edited_time=datetime.datetime(2021, 10, 23, 9, 29, tzinfo=datetime.timezone.utc), has_children=True, unsupported={}),\n",
       " Paragraph(type='paragraph', object='block', id=UUID('07d28941-0637-4357-a5fe-efcd6ff46898'), created_time=datetime.datetime(2021, 10, 23, 9, 28, tzinfo=datetime.timezone.utc), last_edited_time=datetime.datetime(2021, 10, 23, 9, 28, tzinfo=datetime.timezone.utc), has_children=False, paragraph=NestedData(text=[], children=None)),\n",
       " Embed(type='embed', object='block', id=UUID('7bad04b3-d3d6-4e62-9d86-6beddb111885'), created_time=datetime.datetime(2021, 10, 23, 9, 22, tzinfo=datetime.timezone.utc), last_edited_time=datetime.datetime(2021, 10, 23, 9, 27, tzinfo=datetime.timezone.utc), has_children=False, embed=NestedData(url='https://dash.gallery/dash-financial-report/overview')),\n",
       " Paragraph(type='paragraph', object='block', id=UUID('43aa1fa8-10c4-4e2d-bd91-a02102fa0f48'), created_time=datetime.datetime(2021, 10, 23, 9, 23, tzinfo=datetime.timezone.utc), last_edited_time=datetime.datetime(2021, 10, 23, 9, 23, tzinfo=datetime.timezone.utc), has_children=False, paragraph=NestedData(text=[], children=None))]"
      ]
     },
     "execution_count": 11,
     "metadata": {},
     "output_type": "execute_result"
    }
   ],
   "source": [
    "blocks\n",
    "\n"
   ]
  },
  {
   "cell_type": "code",
   "execution_count": 19,
   "metadata": {},
   "outputs": [],
   "source": [
    "heading = blocks[0]"
   ]
  },
  {
   "cell_type": "code",
   "execution_count": 13,
   "metadata": {},
   "outputs": [
    {
     "data": {
      "text/plain": [
       "notional.blocks.Heading1"
      ]
     },
     "execution_count": 13,
     "metadata": {},
     "output_type": "execute_result"
    }
   ],
   "source": [
    "from notional.blocks import Heading1\n",
    "from src.notion2md.notion_block_templates import heading_1_template\n",
    "from src.notion2md.notion_block_content_extractors import heading_1_content_extractor\n",
    "\n",
    "class Heading1(Heading1):\n",
    "    @classmethod\n",
    "    def to_markdown(cls)->str:\n",
    "        return heading_1_template.render(\n",
    "            content = heading_1_content_extractor(cls)\n",
    "            )\n",
    "\n"
   ]
  },
  {
   "cell_type": "code",
   "execution_count": null,
   "metadata": {},
   "outputs": [],
   "source": [
    "class Page(Page):\n",
    "    @classmethod\n",
    "    def to_markdown(cls)->str:\n",
    "        return '\\n'.join(\n",
    "            block.to_markdown() for blocks in notion.blocks.children.list(cls)\n",
    "            )"
   ]
  },
  {
   "cell_type": "code",
   "execution_count": null,
   "metadata": {},
   "outputs": [],
   "source": [
    "from mako.template import Template\n",
    "\n",
    "heading_1_template = Template('# ${content}')\n",
    "heading_1_template.render(content = heading_1_content_extractor())"
   ]
  },
  {
   "cell_type": "code",
   "execution_count": 43,
   "metadata": {},
   "outputs": [
    {
     "name": "stdout",
     "output_type": "stream",
     "text": [
      "# This is the heading we want to read\n",
      "\n"
     ]
    }
   ],
   "source": [
    "template_path = 'src/templates/notion_header.md'\n",
    "from mako.template import Template\n",
    "\n",
    "mytemplate = Template(filename=template_path)\n",
    "\n",
    "print(mytemplate.render(content=heading.heading_1.text[0].text.content))\n",
    "\n",
    "\n",
    "# from renderdown import DocManager\n",
    "# dm = DocManager\n",
    "# dm.render(template_path)\n",
    "# \n",
    "\n"
   ]
  },
  {
   "cell_type": "code",
   "execution_count": 34,
   "metadata": {},
   "outputs": [
    {
     "data": {
      "text/plain": [
       "'{\"type\": \"heading_1\", \"object\": \"block\", \"id\": \"e8c10f24-ba5e-4166-9b9e-5528be38897d\", \"created_time\": \"2021-10-22T13:52:00+00:00\", \"last_edited_time\": \"2021-10-22T15:58:00+00:00\", \"has_children\": false, \"heading_1\": {\"text\": [{\"type\": \"text\", \"plain_text\": \"This is the heading we want to read\", \"href\": null, \"annotations\": {\"bold\": false, \"italic\": false, \"strikethrough\": false, \"underline\": false, \"code\": false, \"color\": \"default\"}, \"text\": {\"content\": \"This is the heading we want to read\", \"link\": null}}]}}'"
      ]
     },
     "execution_count": 34,
     "metadata": {},
     "output_type": "execute_result"
    }
   ],
   "source": [
    "def to_markdown(klass):\n",
    "\n",
    "    return "
   ]
  },
  {
   "cell_type": "code",
   "execution_count": null,
   "metadata": {},
   "outputs": [],
   "source": []
  }
 ],
 "metadata": {
  "interpreter": {
   "hash": "2f4929a8fdcffa4db5b0fd3d39d5d19eb2d49a6c501fb0a647a7b00c59544740"
  },
  "kernelspec": {
   "display_name": "Python 3.8.12 64-bit ('.venv': poetry)",
   "name": "python3"
  },
  "language_info": {
   "codemirror_mode": {
    "name": "ipython",
    "version": 3
   },
   "file_extension": ".py",
   "mimetype": "text/x-python",
   "name": "python",
   "nbconvert_exporter": "python",
   "pygments_lexer": "ipython3",
   "version": "3.8.12"
  },
  "orig_nbformat": 4
 },
 "nbformat": 4,
 "nbformat_minor": 2
}
