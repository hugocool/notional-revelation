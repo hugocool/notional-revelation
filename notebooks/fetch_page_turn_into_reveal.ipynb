{
 "cells": [
  {
   "cell_type": "code",
   "execution_count": 1,
   "metadata": {},
   "outputs": [],
   "source": [
    "from jinja2 import Environment, PackageLoader, select_autoescape\n",
    "env = Environment(\n",
    "    loader=PackageLoader(\"src\"),\n",
    "    autoescape=select_autoescape()\n",
    ")"
   ]
  },
  {
   "cell_type": "code",
   "execution_count": null,
   "metadata": {},
   "outputs": [],
   "source": [
    "# template = env.get_template(\"mytemplate.html\")"
   ]
  },
  {
   "cell_type": "code",
   "execution_count": 3,
   "metadata": {},
   "outputs": [],
   "source": [
    "from renderdown import DocManager\n"
   ]
  },
  {
   "cell_type": "code",
   "execution_count": 5,
   "metadata": {},
   "outputs": [],
   "source": [
    "dm = DocManager()"
   ]
  },
  {
   "cell_type": "code",
   "execution_count": null,
   "metadata": {},
   "outputs": [],
   "source": [
    "dm.render()"
   ]
  },
  {
   "cell_type": "code",
   "execution_count": 1,
   "metadata": {},
   "outputs": [],
   "source": [
    "import notional\n",
    "from dotenv import find_dotenv,load_dotenv\n",
    "import os\n",
    "\n",
    "load_dotenv(find_dotenv())\n",
    "\n",
    "auth_token = os.getenv(\"notion_integration_token\")\n",
    "notion = notional.connect(auth=auth_token)\n",
    "\n",
    "\n",
    "\n"
   ]
  },
  {
   "cell_type": "code",
   "execution_count": 3,
   "metadata": {},
   "outputs": [
    {
     "data": {
      "text/plain": [
       "[('415ea9c6-2d53-496a-92cc-0c9b0a22c921', 'Test_Page')]"
      ]
     },
     "execution_count": 3,
     "metadata": {},
     "output_type": "execute_result"
    }
   ],
   "source": [
    "from src.helpers import notion_pages_tuple\n",
    "\n",
    "notion_pages_tuple(auth_token)\n",
    "\n",
    "# page_id = \n",
    "# notion.pages.retrieve()"
   ]
  },
  {
   "cell_type": "code",
   "execution_count": 4,
   "metadata": {},
   "outputs": [
    {
     "name": "stdout",
     "output_type": "stream",
     "text": [
      "Test_Page => https://www.notion.so/Test_Page-415ea9c62d53496a92cc0c9b0a22c921\n",
      "heading_1 => <class 'notional.blocks.Heading1'>\n"
     ]
    }
   ],
   "source": [
    "page_id = '415ea9c6-2d53-496a-92cc-0c9b0a22c921'\n",
    "page = notion.pages.retrieve(page_id)\n",
    "print(f\"{page.Title} => {page.url}\")\n",
    "\n",
    "# print all children blocks on this page...\n",
    "for block in notion.blocks.children.list(page):\n",
    "    print(f\"{block.type} => {type(block)}\")"
   ]
  },
  {
   "cell_type": "code",
   "execution_count": null,
   "metadata": {},
   "outputs": [],
   "source": []
  }
 ],
 "metadata": {
  "interpreter": {
   "hash": "2f4929a8fdcffa4db5b0fd3d39d5d19eb2d49a6c501fb0a647a7b00c59544740"
  },
  "kernelspec": {
   "display_name": "Python 3.8.12 64-bit ('.venv': poetry)",
   "name": "python3"
  },
  "language_info": {
   "codemirror_mode": {
    "name": "ipython",
    "version": 3
   },
   "file_extension": ".py",
   "mimetype": "text/x-python",
   "name": "python",
   "nbconvert_exporter": "python",
   "pygments_lexer": "ipython3",
   "version": "3.8.12"
  },
  "orig_nbformat": 4
 },
 "nbformat": 4,
 "nbformat_minor": 2
}
